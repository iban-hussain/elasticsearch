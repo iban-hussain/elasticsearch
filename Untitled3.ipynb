{
  "nbformat": 4,
  "nbformat_minor": 0,
  "metadata": {
    "colab": {
      "provenance": [],
      "authorship_tag": "ABX9TyOfgou0Cnnd093XuiwYa7pY",
      "include_colab_link": true
    },
    "kernelspec": {
      "name": "python3",
      "display_name": "Python 3"
    },
    "language_info": {
      "name": "python"
    }
  },
  "cells": [
    {
      "cell_type": "markdown",
      "metadata": {
        "id": "view-in-github",
        "colab_type": "text"
      },
      "source": [
        "<a href=\"https://colab.research.google.com/github/iban-hussain/elasticsearch/blob/main/Untitled3.ipynb\" target=\"_parent\"><img src=\"https://colab.research.google.com/assets/colab-badge.svg\" alt=\"Open In Colab\"/></a>"
      ]
    },
    {
      "cell_type": "code",
      "execution_count": 1,
      "metadata": {
        "id": "HXkNo_T1E-pV"
      },
      "outputs": [],
      "source": [
        "import nltk\n",
        "from nltk.corpus import stopwords\n",
        "from nltk.tokenize import word_tokenize\n",
        "from difflib import SequenceMatcher"
      ]
    },
    {
      "cell_type": "code",
      "source": [
        "nltk.download(\"punkt\")\n",
        "nltk.download(\"stopwords\")\n",
        "stop_words = set(stopwords.words(\"english\"))\n"
      ],
      "metadata": {
        "colab": {
          "base_uri": "https://localhost:8080/"
        },
        "id": "nipaaquYFJ24",
        "outputId": "1619af8c-68c8-41e7-cbe3-e02ec79ecd62"
      },
      "execution_count": 2,
      "outputs": [
        {
          "output_type": "stream",
          "name": "stderr",
          "text": [
            "[nltk_data] Downloading package punkt to /root/nltk_data...\n",
            "[nltk_data]   Unzipping tokenizers/punkt.zip.\n",
            "[nltk_data] Downloading package stopwords to /root/nltk_data...\n",
            "[nltk_data]   Unzipping corpora/stopwords.zip.\n"
          ]
        }
      ]
    },
    {
      "cell_type": "code",
      "source": [
        "def preprocess_text(text):\n",
        "    words = word_tokenize(text.lower())\n",
        "    words = [word for word in words if word.isalnum() and word not in stop_words]\n",
        "    return \" \".join(words)\n",
        "def similarity_ratio(text1, text2):\n",
        "    return SequenceMatcher(None, text1, text2).ratio()\n",
        "def check_plagiarism(text1, text2, threshold=0.8):\n",
        "    preprocessed_text1 = preprocess_text(text1)\n",
        "    preprocessed_text2 = preprocess_text(text2)\n",
        "    similarity = similarity_ratio(preprocessed_text1, preprocessed_text2)\n",
        "    if similarity >= threshold:\n",
        "        return True\n",
        "    return False"
      ],
      "metadata": {
        "id": "Kg_1fbCoFZeB"
      },
      "execution_count": 3,
      "outputs": []
    },
    {
      "cell_type": "code",
      "source": [
        "if __name__ == \"__main__\":\n",
        "    text1 = input(\"Enter the first text: \")\n",
        "    text2 = input(\"Enter the second text: \")\n",
        "    plagiarism_threshold = 0.8\n",
        "    if check_plagiarism(text1, text2, plagiarism_threshold):\n",
        "        print(\"Plagiarism detected!\")\n",
        "    else:\n",
        "        print(\"No plagiarism detected.\")"
      ],
      "metadata": {
        "colab": {
          "base_uri": "https://localhost:8080/"
        },
        "id": "XND2gNA7FgdY",
        "outputId": "3e0ec4bf-ae65-4e46-e5ce-2e8c464fe79a"
      },
      "execution_count": 4,
      "outputs": [
        {
          "output_type": "stream",
          "name": "stdout",
          "text": [
            "Enter the first text: I love my India\n",
            "Enter the second text: Love for India\n",
            "Plagiarism detected!\n"
          ]
        }
      ]
    }
  ]
}